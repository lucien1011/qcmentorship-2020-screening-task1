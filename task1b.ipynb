{
 "cells": [
  {
   "cell_type": "code",
   "execution_count": 7,
   "metadata": {},
   "outputs": [],
   "source": [
    "import numpy as np\n",
    "from qiskit import QuantumCircuit,QuantumRegister,ClassicalRegister\n",
    "from qiskit import BasicAer\n",
    "from qiskit import execute\n",
    "import math\n",
    "%matplotlib inline"
   ]
  },
  {
   "cell_type": "code",
   "execution_count": 8,
   "metadata": {},
   "outputs": [],
   "source": [
    "def prepare_swap_circuit(theta_true,phi_true,theta_guess,phi_guess):\n",
    "    \"\"\"\n",
    "    This function constructs and return a quantum circuit to do a swap test based on:\n",
    "    1, a set of randomly chosen theta and phi value\n",
    "    2, a set of guessed theta and phi value\n",
    "    \"\"\"\n",
    "    anc = QuantumRegister(1,'ancilla')\n",
    "    qr1 = QuantumRegister(1,'q1')\n",
    "    qr2 = QuantumRegister(1,'q2')\n",
    "    cr = ClassicalRegister(1,'c')\n",
    "    qc = QuantumCircuit(qr1,qr2,anc,cr)\n",
    "    \n",
    "    # qr1 is set by a set of randomly chosen theta and phi\n",
    "    qc.ry(theta_true,qr1)\n",
    "    qc.rz(phi_true,qr1)\n",
    "    \n",
    "    # qr2 is a guess of theta and phi\n",
    "    qc.ry(theta_guess,qr2)\n",
    "    qc.rz(phi_guess,qr2)\n",
    "    \n",
    "    # Compare qr1 and qr2 by swap circuit\n",
    "    qc.h(anc)\n",
    "    qc.cswap(anc,qr1,qr2)\n",
    "    qc.h(anc)\n",
    "    \n",
    "    qc.measure(anc,cr)\n",
    "    return qc"
   ]
  },
  {
   "cell_type": "code",
   "execution_count": 15,
   "metadata": {},
   "outputs": [
    {
     "name": "stdout",
     "output_type": "stream",
     "text": [
      "True value:  0.8587358512674191 0.7710368591672467\n",
      "[0.86, 0.76, 1.0]\n"
     ]
    }
   ],
   "source": [
    "# Randomly choose theta and phi\n",
    "theta_true = np.random.uniform()\n",
    "phi_true = np.random.uniform()\n",
    "\n",
    "# Grid range for theta\n",
    "theta_range = [0.,1.]\n",
    "# Number of grid points scanned for theta\n",
    "n_theta = 50\n",
    "\n",
    "# Grid range for phi\n",
    "phi_range = [0.,1.]\n",
    "# Number of grid points scanned for phi\n",
    "n_phi = 50\n",
    "\n",
    "# Number of times to run the circuit\n",
    "shots = 50000\n",
    "\n",
    "print(\"True value: \",theta_true,phi_true)\n",
    "out_list = []\n",
    "for it in range(n_theta):\n",
    "    for ip in range(n_phi):\n",
    "        \n",
    "        # Calculate the guess values for theta and phi\n",
    "        theta_guess = (theta_range[1]-theta_range[0]) / n_theta * it + theta_range[0]\n",
    "        phi_guess = (phi_range[1]-phi_range[0]) / n_phi * ip + phi_range[0]\n",
    "        \n",
    "        # Prepare quantum circuit for the swap test\n",
    "        qc = prepare_swap_circuit(theta_true,phi_true,theta_guess,phi_guess)\n",
    "        \n",
    "        # Run the swap test n times\n",
    "        backend = BasicAer.get_backend('qasm_simulator')\n",
    "        results = execute(qc, backend=backend, shots=shots).result()\n",
    "        answer = results.get_counts()\n",
    "        \n",
    "        # Calculate swap result\n",
    "        sumM = float(answer['1']) if '1' in answer else 0.\n",
    "        s = 1.-2./shots*sumM\n",
    "        \n",
    "        # Save result of this grid point to the list\n",
    "        out_list.append([theta_guess,phi_guess,s])\n",
    "        \n",
    "# Print the grid point with max s\n",
    "out_list.sort(key=lambda x: x[2], reverse=True)\n",
    "print(out_list[0])"
   ]
  },
  {
   "cell_type": "code",
   "execution_count": null,
   "metadata": {},
   "outputs": [],
   "source": []
  }
 ],
 "metadata": {
  "kernelspec": {
   "display_name": "py3.7.6",
   "language": "python",
   "name": "py3.7.6"
  },
  "language_info": {
   "codemirror_mode": {
    "name": "ipython",
    "version": 3
   },
   "file_extension": ".py",
   "mimetype": "text/x-python",
   "name": "python",
   "nbconvert_exporter": "python",
   "pygments_lexer": "ipython3",
   "version": "3.7.6"
  }
 },
 "nbformat": 4,
 "nbformat_minor": 4
}
